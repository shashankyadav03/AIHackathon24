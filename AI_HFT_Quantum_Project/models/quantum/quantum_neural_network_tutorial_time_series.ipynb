{
 "cells": [
  {
   "cell_type": "markdown",
   "metadata": {},
   "source": [
    "# Quantum Neural Network for FinTech Time Series Function Fitting"
   ]
  },
  {
   "cell_type": "code",
   "execution_count": 1,
   "metadata": {},
   "outputs": [],
   "source": [
    "# Import PennyLane, the wrapped version of NumPy provided by PennyLane,and an optimizer.\n",
    "import pennylane as qml\n",
    "from pennylane import numpy as np\n",
    "from pennylane.optimize import AdamOptimizer"
   ]
  },
  {
   "cell_type": "code",
   "execution_count": 2,
   "metadata": {},
   "outputs": [],
   "source": [
    "# Other imports:\n",
    "# matplotlib.pyplot to plot and visualize the data\n",
    "# numpy to generate the mathematical function\n",
    "# pylab to help with interactive plots\n",
    "# pickle to dump the data into a file for future use\n",
    "import matplotlib.pyplot as plt\n",
    "import numpy as np\n",
    "import pylab\n",
    "import pickle"
   ]
  },
  {
   "cell_type": "code",
   "execution_count": 3,
   "metadata": {},
   "outputs": [],
   "source": [
    "from dateutil.parser import parse \n",
    "import matplotlib as mpl\n",
    "import seaborn as sns\n",
    "import pandas as pd"
   ]
  },
  {
   "cell_type": "markdown",
   "metadata": {},
   "source": [
    "## Time Series Drug Sales Data"
   ]
  },
  {
   "cell_type": "code",
   "execution_count": 4,
   "metadata": {},
   "outputs": [
    {
     "data": {
      "text/html": [
       "<div>\n",
       "<style scoped>\n",
       "    .dataframe tbody tr th:only-of-type {\n",
       "        vertical-align: middle;\n",
       "    }\n",
       "\n",
       "    .dataframe tbody tr th {\n",
       "        vertical-align: top;\n",
       "    }\n",
       "\n",
       "    .dataframe thead th {\n",
       "        text-align: right;\n",
       "    }\n",
       "</style>\n",
       "<table border=\"1\" class=\"dataframe\">\n",
       "  <thead>\n",
       "    <tr style=\"text-align: right;\">\n",
       "      <th></th>\n",
       "      <th>date</th>\n",
       "      <th>value</th>\n",
       "    </tr>\n",
       "  </thead>\n",
       "  <tbody>\n",
       "    <tr>\n",
       "      <th>0</th>\n",
       "      <td>1991-07-01</td>\n",
       "      <td>3.526591</td>\n",
       "    </tr>\n",
       "    <tr>\n",
       "      <th>1</th>\n",
       "      <td>1991-08-01</td>\n",
       "      <td>3.180891</td>\n",
       "    </tr>\n",
       "    <tr>\n",
       "      <th>2</th>\n",
       "      <td>1991-09-01</td>\n",
       "      <td>3.252221</td>\n",
       "    </tr>\n",
       "    <tr>\n",
       "      <th>3</th>\n",
       "      <td>1991-10-01</td>\n",
       "      <td>3.611003</td>\n",
       "    </tr>\n",
       "    <tr>\n",
       "      <th>4</th>\n",
       "      <td>1991-11-01</td>\n",
       "      <td>3.565869</td>\n",
       "    </tr>\n",
       "  </tbody>\n",
       "</table>\n",
       "</div>"
      ],
      "text/plain": [
       "        date     value\n",
       "0 1991-07-01  3.526591\n",
       "1 1991-08-01  3.180891\n",
       "2 1991-09-01  3.252221\n",
       "3 1991-10-01  3.611003\n",
       "4 1991-11-01  3.565869"
      ]
     },
     "execution_count": 4,
     "metadata": {},
     "output_type": "execute_result"
    }
   ],
   "source": [
    "df = pd.read_csv('https://raw.githubusercontent.com/selva86/datasets/master/a10.csv', parse_dates=['date'])\n",
    "df.head()"
   ]
  },
  {
   "cell_type": "code",
   "execution_count": 5,
   "metadata": {},
   "outputs": [],
   "source": [
    "# Rescale the data\n",
    "X = (df.index-100)/25\n",
    "Y = df.value/15 - 1"
   ]
  },
  {
   "cell_type": "code",
   "execution_count": 6,
   "metadata": {},
   "outputs": [
    {
     "data": {
      "image/png": "[encoded data removed]",
      "text/plain": [
       "<Figure size 432x288 with 1 Axes>"
      ]
     },
     "metadata": {
      "needs_background": "light"
     },
     "output_type": "display_data"
    }
   ],
   "source": [
    "plt.figure()\n",
    "plt.scatter(X, Y)\n",
    "plt.xlabel(\"x\", fontsize=18)\n",
    "plt.ylabel(\"f(x)\", fontsize=18)\n",
    "plt.tick_params(axis=\"both\", which=\"major\", labelsize=16)\n",
    "plt.tick_params(axis=\"both\", which=\"minor\", labelsize=16)\n",
    "plt.show()"
   ]
  },
  {
   "cell_type": "code",
   "execution_count": 7,
   "metadata": {},
   "outputs": [],
   "source": [
    "dev = qml.device(\"strawberryfields.fock\", wires=1, cutoff_dim=10)"
   ]
  },
  {
   "cell_type": "markdown",
   "metadata": {},
   "source": [
    "### Quantum node\n",
    "For a single quantum mode, each layer of the variational circuit is defined as:"
   ]
  },
  {
   "cell_type": "code",
   "execution_count": 8,
   "metadata": {},
   "outputs": [],
   "source": [
    "def layer(v):\n",
    "    # Matrix multiplication of input layer\n",
    "    qml.Rotation(v[0], wires=0)\n",
    "    qml.Squeezing(v[1], 0.0, wires=0)\n",
    "    qml.Rotation(v[2], wires=0)\n",
    "\n",
    "    # Bias\n",
    "    qml.Displacement(v[3], 0.0, wires=0)\n",
    "\n",
    "    # Element-wise nonlinear transformation\n",
    "    qml.Kerr(v[4], wires=0)"
   ]
  },
  {
   "cell_type": "markdown",
   "metadata": {},
   "source": [
    "The variational circuit in the quantum node first encodes the input into\n",
    "the displacement of the mode, and then executes the layers. The output\n",
    "is the expectation of the x-quadrature."
   ]
  },
  {
   "cell_type": "code",
   "execution_count": 9,
   "metadata": {},
   "outputs": [],
   "source": [
    "@qml.qnode(dev)\n",
    "def quantum_neural_net(var, x=None):\n",
    "    # Encode input x into quantum state\n",
    "    qml.Displacement(x, 0.0, wires=0)\n",
    "\n",
    "    # \"layer\" subcircuits\n",
    "    for v in var:\n",
    "        layer(v)\n",
    "\n",
    "    return qml.expval(qml.X(0))"
   ]
  },
  {
   "cell_type": "markdown",
   "metadata": {},
   "source": [
    "### Objective\n",
    "As an objective we take the square loss between target labels and model\n",
    "predictions."
   ]
  },
  {
   "cell_type": "code",
   "execution_count": 10,
   "metadata": {},
   "outputs": [],
   "source": [
    "def square_loss(labels, predictions):\n",
    "    loss = 0\n",
    "    for l, p in zip(labels, predictions):\n",
    "        loss = loss + (l - p) ** 2\n",
    "\n",
    "    loss = loss / len(labels)\n",
    "    return loss"
   ]
  },
  {
   "cell_type": "markdown",
   "metadata": {},
   "source": [
    "In the cost function, we compute the outputs from the variational\n",
    "circuit. Function fitting is a regression problem, and we interpret the\n",
    "expectations from the quantum node as predictions (i.e., without\n",
    "applying postprocessing such as thresholding).\n"
   ]
  },
  {
   "cell_type": "code",
   "execution_count": 11,
   "metadata": {},
   "outputs": [],
   "source": [
    "def cost(var, features, labels):\n",
    "    preds = [quantum_neural_net(var, x=x) for x in features]\n",
    "    return square_loss(labels, preds)"
   ]
  },
  {
   "cell_type": "markdown",
   "metadata": {},
   "source": [
    "The network’s weights (called ``var`` here) are initialized with values\n",
    "sampled from a normal distribution. We use 6 layers."
   ]
  },
  {
   "cell_type": "code",
   "execution_count": 12,
   "metadata": {},
   "outputs": [
    {
     "name": "stdout",
     "output_type": "stream",
     "text": [
      "[[ 0.08820262  0.02000786  0.0489369   0.11204466  0.0933779 ]\n",
      " [-0.04886389  0.04750442 -0.00756786 -0.00516094  0.02052993]\n",
      " [ 0.00720218  0.07271368  0.03805189  0.00608375  0.02219316]\n",
      " [ 0.01668372  0.07470395 -0.01025791  0.01565339 -0.04270479]\n",
      " [-0.12764949  0.03268093  0.04322181 -0.03710825  0.11348773]\n",
      " [-0.07271828  0.00228793 -0.00935919  0.07663896  0.07346794]]\n"
     ]
    }
   ],
   "source": [
    "np.random.seed(0)\n",
    "num_layers = 6\n",
    "var_init = 0.05 * np.random.randn(num_layers, 5)\n",
    "print(var_init)"
   ]
  },
  {
   "cell_type": "code",
   "execution_count": 13,
   "metadata": {},
   "outputs": [
    {
     "name": "stdout",
     "output_type": "stream",
     "text": [
      "Iter:     1 | Cost: 1.0918091 \n",
      "Iter:     2 | Cost: 0.8614335 \n",
      "Iter:     3 | Cost: 0.7124058 \n",
      "Iter:     4 | Cost: 0.6136188 \n",
      "Iter:     5 | Cost: 0.5472918 \n",
      "Iter:     6 | Cost: 0.5023930 \n",
      "Iter:     7 | Cost: 0.4717386 \n",
      "Iter:     8 | Cost: 0.4504651 \n",
      "Iter:     9 | Cost: 0.4351745 \n",
      "Iter:    10 | Cost: 0.4234362 \n",
      "Iter:    11 | Cost: 0.4134862 \n",
      "Iter:    12 | Cost: 0.4040411 \n",
      "Iter:    13 | Cost: 0.3941809 \n",
      "Iter:    14 | Cost: 0.3832761 \n",
      "Iter:    15 | Cost: 0.3709416 \n",
      "Iter:    16 | Cost: 0.3570077 \n",
      "Iter:    17 | Cost: 0.3415017 \n",
      "Iter:    18 | Cost: 0.3246319 \n",
      "Iter:    19 | Cost: 0.3067701 \n",
      "Iter:    20 | Cost: 0.2884246 \n",
      "Iter:    21 | Cost: 0.2702021 \n",
      "Iter:    22 | Cost: 0.2527540 \n",
      "Iter:    23 | Cost: 0.2367136 \n",
      "Iter:    24 | Cost: 0.2226299 \n",
      "Iter:    25 | Cost: 0.2109098 \n",
      "Iter:    26 | Cost: 0.2017781 \n",
      "Iter:    27 | Cost: 0.1952625 \n",
      "Iter:    28 | Cost: 0.1912017 \n",
      "Iter:    29 | Cost: 0.1892754 \n",
      "Iter:    30 | Cost: 0.1890455 \n",
      "Iter:    31 | Cost: 0.1900046 \n",
      "Iter:    32 | Cost: 0.1916267 \n",
      "Iter:    33 | Cost: 0.1934155 \n",
      "Iter:    34 | Cost: 0.1949469 \n",
      "Iter:    35 | Cost: 0.1959019 \n",
      "Iter:    36 | Cost: 0.1960854 \n",
      "Iter:    37 | Cost: 0.1954281 \n",
      "Iter:    38 | Cost: 0.1939733 \n",
      "Iter:    39 | Cost: 0.1918499 \n",
      "Iter:    40 | Cost: 0.1892403 \n",
      "Iter:    41 | Cost: 0.1863465 \n",
      "Iter:    42 | Cost: 0.1833618 \n",
      "Iter:    43 | Cost: 0.1804502 \n",
      "Iter:    44 | Cost: 0.1777346 \n",
      "Iter:    45 | Cost: 0.1752940 \n",
      "Iter:    46 | Cost: 0.1731654 \n",
      "Iter:    47 | Cost: 0.1713505 \n",
      "Iter:    48 | Cost: 0.1698235 \n",
      "Iter:    49 | Cost: 0.1685399 \n",
      "Iter:    50 | Cost: 0.1674444 \n",
      "Iter:    51 | Cost: 0.1664778 \n",
      "Iter:    52 | Cost: 0.1655831 \n",
      "Iter:    53 | Cost: 0.1647095 \n",
      "Iter:    54 | Cost: 0.1638160 \n",
      "Iter:    55 | Cost: 0.1628731 \n",
      "Iter:    56 | Cost: 0.1618635 \n",
      "Iter:    57 | Cost: 0.1607820 \n",
      "Iter:    58 | Cost: 0.1596336 \n",
      "Iter:    59 | Cost: 0.1584322 \n",
      "Iter:    60 | Cost: 0.1571975 \n",
      "Iter:    61 | Cost: 0.1559524 \n",
      "Iter:    62 | Cost: 0.1547200 \n",
      "Iter:    63 | Cost: 0.1535214 \n",
      "Iter:    64 | Cost: 0.1523737 \n",
      "Iter:    65 | Cost: 0.1512884 \n",
      "Iter:    66 | Cost: 0.1502708 \n",
      "Iter:    67 | Cost: 0.1493206 \n",
      "Iter:    68 | Cost: 0.1484320 \n",
      "Iter:    69 | Cost: 0.1475957 \n",
      "Iter:    70 | Cost: 0.1467996 \n",
      "Iter:    71 | Cost: 0.1460311 \n",
      "Iter:    72 | Cost: 0.1452784 \n",
      "Iter:    73 | Cost: 0.1445313 \n",
      "Iter:    74 | Cost: 0.1437828 \n",
      "Iter:    75 | Cost: 0.1430284 \n",
      "Iter:    76 | Cost: 0.1422672 \n",
      "Iter:    77 | Cost: 0.1415004 \n",
      "Iter:    78 | Cost: 0.1407315 \n",
      "Iter:    79 | Cost: 0.1399650 \n",
      "Iter:    80 | Cost: 0.1392056 \n",
      "Iter:    81 | Cost: 0.1384580 \n",
      "Iter:    82 | Cost: 0.1377256 \n",
      "Iter:    83 | Cost: 0.1370107 \n",
      "Iter:    84 | Cost: 0.1363143 \n",
      "Iter:    85 | Cost: 0.1356358 \n",
      "Iter:    86 | Cost: 0.1349738 \n",
      "Iter:    87 | Cost: 0.1343259 \n",
      "Iter:    88 | Cost: 0.1336896 \n",
      "Iter:    89 | Cost: 0.1330623 \n",
      "Iter:    90 | Cost: 0.1324420 \n",
      "Iter:    91 | Cost: 0.1318271 \n",
      "Iter:    92 | Cost: 0.1312169 \n",
      "Iter:    93 | Cost: 0.1306115 \n",
      "Iter:    94 | Cost: 0.1300117 \n",
      "Iter:    95 | Cost: 0.1294183 \n",
      "Iter:    96 | Cost: 0.1288329 \n",
      "Iter:    97 | Cost: 0.1282566 \n",
      "Iter:    98 | Cost: 0.1276905 \n",
      "Iter:    99 | Cost: 0.1271353 \n",
      "Iter:   100 | Cost: 0.1265911 \n",
      "Iter:   101 | Cost: 0.1260578 \n",
      "Iter:   102 | Cost: 0.1255350 \n",
      "Iter:   103 | Cost: 0.1250220 \n",
      "Iter:   104 | Cost: 0.1245180 \n",
      "Iter:   105 | Cost: 0.1240222 \n",
      "Iter:   106 | Cost: 0.1235342 \n",
      "Iter:   107 | Cost: 0.1230534 \n",
      "Iter:   108 | Cost: 0.1225797 \n",
      "Iter:   109 | Cost: 0.1221130 \n",
      "Iter:   110 | Cost: 0.1216535 \n",
      "Iter:   111 | Cost: 0.1212014 \n",
      "Iter:   112 | Cost: 0.1207568 \n",
      "Iter:   113 | Cost: 0.1203200 \n",
      "Iter:   114 | Cost: 0.1198911 \n",
      "Iter:   115 | Cost: 0.1194700 \n",
      "Iter:   116 | Cost: 0.1190566 \n",
      "Iter:   117 | Cost: 0.1186507 \n",
      "Iter:   118 | Cost: 0.1182520 \n",
      "Iter:   119 | Cost: 0.1178604 \n",
      "Iter:   120 | Cost: 0.1174755 \n",
      "Iter:   121 | Cost: 0.1170970 \n",
      "Iter:   122 | Cost: 0.1167249 \n",
      "Iter:   123 | Cost: 0.1163589 \n",
      "Iter:   124 | Cost: 0.1159990 \n",
      "Iter:   125 | Cost: 0.1156452 \n",
      "Iter:   126 | Cost: 0.1152974 \n",
      "Iter:   127 | Cost: 0.1149556 \n",
      "Iter:   128 | Cost: 0.1146197 \n",
      "Iter:   129 | Cost: 0.1142896 \n",
      "Iter:   130 | Cost: 0.1139653 \n",
      "Iter:   131 | Cost: 0.1136466 \n",
      "Iter:   132 | Cost: 0.1133333 \n",
      "Iter:   133 | Cost: 0.1130254 \n",
      "Iter:   134 | Cost: 0.1127227 \n",
      "Iter:   135 | Cost: 0.1124250 \n",
      "Iter:   136 | Cost: 0.1121323 \n",
      "Iter:   137 | Cost: 0.1118444 \n",
      "Iter:   138 | Cost: 0.1115612 \n",
      "Iter:   139 | Cost: 0.1112828 \n",
      "Iter:   140 | Cost: 0.1110089 \n",
      "Iter:   141 | Cost: 0.1107396 \n",
      "Iter:   142 | Cost: 0.1104748 \n",
      "Iter:   143 | Cost: 0.1102143 \n",
      "Iter:   144 | Cost: 0.1099582 \n",
      "Iter:   145 | Cost: 0.1097063 \n",
      "Iter:   146 | Cost: 0.1094585 \n",
      "Iter:   147 | Cost: 0.1092147 \n",
      "Iter:   148 | Cost: 0.1089749 \n",
      "Iter:   149 | Cost: 0.1087390 \n",
      "Iter:   150 | Cost: 0.1085068 \n",
      "Iter:   151 | Cost: 0.1082783 \n",
      "Iter:   152 | Cost: 0.1080534 \n",
      "Iter:   153 | Cost: 0.1078321 \n",
      "Iter:   154 | Cost: 0.1076142 \n",
      "Iter:   155 | Cost: 0.1073998 \n",
      "Iter:   156 | Cost: 0.1071887 \n",
      "Iter:   157 | Cost: 0.1069808 \n",
      "Iter:   158 | Cost: 0.1067761 \n",
      "Iter:   159 | Cost: 0.1065746 \n",
      "Iter:   160 | Cost: 0.1063760 \n",
      "Iter:   161 | Cost: 0.1061805 \n",
      "Iter:   162 | Cost: 0.1059878 \n",
      "Iter:   163 | Cost: 0.1057980 \n",
      "Iter:   164 | Cost: 0.1056110 \n",
      "Iter:   165 | Cost: 0.1054266 \n",
      "Iter:   166 | Cost: 0.1052449 \n",
      "Iter:   167 | Cost: 0.1050658 \n",
      "Iter:   168 | Cost: 0.1048892 \n",
      "Iter:   169 | Cost: 0.1047151 \n",
      "Iter:   170 | Cost: 0.1045434 \n",
      "Iter:   171 | Cost: 0.1043741 \n",
      "Iter:   172 | Cost: 0.1042071 \n",
      "Iter:   173 | Cost: 0.1040423 \n",
      "Iter:   174 | Cost: 0.1038797 \n",
      "Iter:   175 | Cost: 0.1037193 \n",
      "Iter:   176 | Cost: 0.1035610 \n",
      "Iter:   177 | Cost: 0.1034047 \n",
      "Iter:   178 | Cost: 0.1032504 \n",
      "Iter:   179 | Cost: 0.1030981 \n",
      "Iter:   180 | Cost: 0.1029477 \n",
      "Iter:   181 | Cost: 0.1027991 \n",
      "Iter:   182 | Cost: 0.1026524 \n",
      "Iter:   183 | Cost: 0.1025074 \n",
      "Iter:   184 | Cost: 0.1023642 \n",
      "Iter:   185 | Cost: 0.1022227 \n",
      "Iter:   186 | Cost: 0.1020829 \n",
      "Iter:   187 | Cost: 0.1019446 \n",
      "Iter:   188 | Cost: 0.1018080 \n",
      "Iter:   189 | Cost: 0.1016729 \n",
      "Iter:   190 | Cost: 0.1015393 \n",
      "Iter:   191 | Cost: 0.1014072 \n",
      "Iter:   192 | Cost: 0.1012765 \n",
      "Iter:   193 | Cost: 0.1011473 \n",
      "Iter:   194 | Cost: 0.1010194 \n",
      "Iter:   195 | Cost: 0.1008928 \n",
      "Iter:   196 | Cost: 0.1007676 \n",
      "Iter:   197 | Cost: 0.1006437 \n",
      "Iter:   198 | Cost: 0.1005210 \n",
      "Iter:   199 | Cost: 0.1003995 \n",
      "Iter:   200 | Cost: 0.1002793 \n",
      "Iter:   201 | Cost: 0.1001602 \n",
      "Iter:   202 | Cost: 0.1000423 \n",
      "Iter:   203 | Cost: 0.0999255 \n",
      "Iter:   204 | Cost: 0.0998098 \n",
      "Iter:   205 | Cost: 0.0996951 \n",
      "Iter:   206 | Cost: 0.0995815 \n",
      "Iter:   207 | Cost: 0.0994690 \n",
      "Iter:   208 | Cost: 0.0993574 \n",
      "Iter:   209 | Cost: 0.0992469 \n",
      "Iter:   210 | Cost: 0.0991373 \n",
      "Iter:   211 | Cost: 0.0990286 \n",
      "Iter:   212 | Cost: 0.0989209 \n",
      "Iter:   213 | Cost: 0.0988141 \n",
      "Iter:   214 | Cost: 0.0987082 \n",
      "Iter:   215 | Cost: 0.0986031 \n",
      "Iter:   216 | Cost: 0.0984989 \n",
      "Iter:   217 | Cost: 0.0983955 \n",
      "Iter:   218 | Cost: 0.0982930 \n",
      "Iter:   219 | Cost: 0.0981912 \n",
      "Iter:   220 | Cost: 0.0980902 \n",
      "Iter:   221 | Cost: 0.0979901 \n",
      "Iter:   222 | Cost: 0.0978906 \n",
      "Iter:   223 | Cost: 0.0977919 \n",
      "Iter:   224 | Cost: 0.0976939 \n",
      "Iter:   225 | Cost: 0.0975967 \n",
      "Iter:   226 | Cost: 0.0975001 \n",
      "Iter:   227 | Cost: 0.0974042 \n",
      "Iter:   228 | Cost: 0.0973090 \n",
      "Iter:   229 | Cost: 0.0972145 \n",
      "Iter:   230 | Cost: 0.0971206 \n",
      "Iter:   231 | Cost: 0.0970274 \n",
      "Iter:   232 | Cost: 0.0969348 \n",
      "Iter:   233 | Cost: 0.0968428 \n",
      "Iter:   234 | Cost: 0.0967514 \n",
      "Iter:   235 | Cost: 0.0966606 \n",
      "Iter:   236 | Cost: 0.0965704 \n",
      "Iter:   237 | Cost: 0.0964807 \n",
      "Iter:   238 | Cost: 0.0963917 \n",
      "Iter:   239 | Cost: 0.0963032 \n",
      "Iter:   240 | Cost: 0.0962152 \n",
      "Iter:   241 | Cost: 0.0961278 \n",
      "Iter:   242 | Cost: 0.0960409 \n",
      "Iter:   243 | Cost: 0.0959545 \n",
      "Iter:   244 | Cost: 0.0958687 \n",
      "Iter:   245 | Cost: 0.0957833 \n",
      "Iter:   246 | Cost: 0.0956985 \n",
      "Iter:   247 | Cost: 0.0956141 \n",
      "Iter:   248 | Cost: 0.0955303 \n",
      "Iter:   249 | Cost: 0.0954469 \n",
      "Iter:   250 | Cost: 0.0953639 \n",
      "Iter:   251 | Cost: 0.0952815 \n",
      "Iter:   252 | Cost: 0.0951995 \n",
      "Iter:   253 | Cost: 0.0951179 \n",
      "Iter:   254 | Cost: 0.0950368 \n",
      "Iter:   255 | Cost: 0.0949561 \n",
      "Iter:   256 | Cost: 0.0948759 \n",
      "Iter:   257 | Cost: 0.0947961 \n",
      "Iter:   258 | Cost: 0.0947167 \n",
      "Iter:   259 | Cost: 0.0946377 \n",
      "Iter:   260 | Cost: 0.0945591 \n",
      "Iter:   261 | Cost: 0.0944809 \n",
      "Iter:   262 | Cost: 0.0944031 \n",
      "Iter:   263 | Cost: 0.0943257 \n",
      "Iter:   264 | Cost: 0.0942487 \n",
      "Iter:   265 | Cost: 0.0941721 \n",
      "Iter:   266 | Cost: 0.0940958 \n",
      "Iter:   267 | Cost: 0.0940200 \n",
      "Iter:   268 | Cost: 0.0939445 \n",
      "Iter:   269 | Cost: 0.0938693 \n",
      "Iter:   270 | Cost: 0.0937945 \n",
      "Iter:   271 | Cost: 0.0937201 \n",
      "Iter:   272 | Cost: 0.0936460 \n",
      "Iter:   273 | Cost: 0.0935722 \n",
      "Iter:   274 | Cost: 0.0934988 \n",
      "Iter:   275 | Cost: 0.0934258 \n",
      "Iter:   276 | Cost: 0.0933530 \n",
      "Iter:   277 | Cost: 0.0932806 \n",
      "Iter:   278 | Cost: 0.0932085 \n",
      "Iter:   279 | Cost: 0.0931368 \n",
      "Iter:   280 | Cost: 0.0930653 \n",
      "Iter:   281 | Cost: 0.0929942 \n",
      "Iter:   282 | Cost: 0.0929234 \n",
      "Iter:   283 | Cost: 0.0928528 \n",
      "Iter:   284 | Cost: 0.0927826 \n",
      "Iter:   285 | Cost: 0.0927127 \n",
      "Iter:   286 | Cost: 0.0926431 \n",
      "Iter:   287 | Cost: 0.0925737 \n",
      "Iter:   288 | Cost: 0.0925047 \n",
      "Iter:   289 | Cost: 0.0924359 \n",
      "Iter:   290 | Cost: 0.0923675 \n",
      "Iter:   291 | Cost: 0.0922993 \n",
      "Iter:   292 | Cost: 0.0922313 \n",
      "Iter:   293 | Cost: 0.0921637 \n",
      "Iter:   294 | Cost: 0.0920963 \n",
      "Iter:   295 | Cost: 0.0920292 \n",
      "Iter:   296 | Cost: 0.0919623 \n",
      "Iter:   297 | Cost: 0.0918958 \n",
      "Iter:   298 | Cost: 0.0918294 \n",
      "Iter:   299 | Cost: 0.0917634 \n",
      "Iter:   300 | Cost: 0.0916975 \n",
      "Iter:   301 | Cost: 0.0916320 \n",
      "Iter:   302 | Cost: 0.0915666 \n",
      "Iter:   303 | Cost: 0.0915016 \n",
      "Iter:   304 | Cost: 0.0914367 \n",
      "Iter:   305 | Cost: 0.0913721 \n",
      "Iter:   306 | Cost: 0.0913078 \n",
      "Iter:   307 | Cost: 0.0912437 \n",
      "Iter:   308 | Cost: 0.0911798 \n",
      "Iter:   309 | Cost: 0.0911161 \n",
      "Iter:   310 | Cost: 0.0910527 \n",
      "Iter:   311 | Cost: 0.0909895 \n",
      "Iter:   312 | Cost: 0.0909265 \n",
      "Iter:   313 | Cost: 0.0908638 \n",
      "Iter:   314 | Cost: 0.0908012 \n",
      "Iter:   315 | Cost: 0.0907389 \n",
      "Iter:   316 | Cost: 0.0906768 \n",
      "Iter:   317 | Cost: 0.0906149 \n",
      "Iter:   318 | Cost: 0.0905532 \n",
      "Iter:   319 | Cost: 0.0904918 \n",
      "Iter:   320 | Cost: 0.0904305 \n",
      "Iter:   321 | Cost: 0.0903695 \n",
      "Iter:   322 | Cost: 0.0903086 \n",
      "Iter:   323 | Cost: 0.0902480 \n",
      "Iter:   324 | Cost: 0.0901875 \n",
      "Iter:   325 | Cost: 0.0901273 \n",
      "Iter:   326 | Cost: 0.0900672 \n",
      "Iter:   327 | Cost: 0.0900074 \n",
      "Iter:   328 | Cost: 0.0899477 \n",
      "Iter:   329 | Cost: 0.0898882 \n",
      "Iter:   330 | Cost: 0.0898289 \n",
      "Iter:   331 | Cost: 0.0897698 \n",
      "Iter:   332 | Cost: 0.0897109 \n",
      "Iter:   333 | Cost: 0.0896522 \n",
      "Iter:   334 | Cost: 0.0895937 \n",
      "Iter:   335 | Cost: 0.0895353 \n",
      "Iter:   336 | Cost: 0.0894771 \n",
      "Iter:   337 | Cost: 0.0894191 \n",
      "Iter:   338 | Cost: 0.0893613 \n",
      "Iter:   339 | Cost: 0.0893036 \n",
      "Iter:   340 | Cost: 0.0892462 \n",
      "Iter:   341 | Cost: 0.0891889 \n",
      "Iter:   342 | Cost: 0.0891317 \n",
      "Iter:   343 | Cost: 0.0890748 \n",
      "Iter:   344 | Cost: 0.0890180 \n",
      "Iter:   345 | Cost: 0.0889613 \n",
      "Iter:   346 | Cost: 0.0889049 \n",
      "Iter:   347 | Cost: 0.0888486 \n",
      "Iter:   348 | Cost: 0.0887925 \n",
      "Iter:   349 | Cost: 0.0887365 \n",
      "Iter:   350 | Cost: 0.0886807 \n",
      "Iter:   351 | Cost: 0.0886250 \n",
      "Iter:   352 | Cost: 0.0885695 \n",
      "Iter:   353 | Cost: 0.0885142 \n",
      "Iter:   354 | Cost: 0.0884590 \n",
      "Iter:   355 | Cost: 0.0884040 \n",
      "Iter:   356 | Cost: 0.0883491 \n",
      "Iter:   357 | Cost: 0.0882944 \n",
      "Iter:   358 | Cost: 0.0882398 \n",
      "Iter:   359 | Cost: 0.0881854 \n",
      "Iter:   360 | Cost: 0.0881311 \n",
      "Iter:   361 | Cost: 0.0880770 \n",
      "Iter:   362 | Cost: 0.0880230 \n",
      "Iter:   363 | Cost: 0.0879692 \n",
      "Iter:   364 | Cost: 0.0879155 \n",
      "Iter:   365 | Cost: 0.0878619 \n",
      "Iter:   366 | Cost: 0.0878085 \n",
      "Iter:   367 | Cost: 0.0877553 \n",
      "Iter:   368 | Cost: 0.0877021 \n",
      "Iter:   369 | Cost: 0.0876491 \n",
      "Iter:   370 | Cost: 0.0875963 \n",
      "Iter:   371 | Cost: 0.0875436 \n",
      "Iter:   372 | Cost: 0.0874910 \n",
      "Iter:   373 | Cost: 0.0874385 \n",
      "Iter:   374 | Cost: 0.0873862 \n",
      "Iter:   375 | Cost: 0.0873341 \n",
      "Iter:   376 | Cost: 0.0872820 \n",
      "Iter:   377 | Cost: 0.0872301 \n",
      "Iter:   378 | Cost: 0.0871783 \n",
      "Iter:   379 | Cost: 0.0871266 \n",
      "Iter:   380 | Cost: 0.0870751 \n",
      "Iter:   381 | Cost: 0.0870237 \n",
      "Iter:   382 | Cost: 0.0869724 \n",
      "Iter:   383 | Cost: 0.0869212 \n",
      "Iter:   384 | Cost: 0.0868702 \n",
      "Iter:   385 | Cost: 0.0868193 \n",
      "Iter:   386 | Cost: 0.0867685 \n",
      "Iter:   387 | Cost: 0.0867178 \n",
      "Iter:   388 | Cost: 0.0866673 \n",
      "Iter:   389 | Cost: 0.0866169 \n",
      "Iter:   390 | Cost: 0.0865665 \n",
      "Iter:   391 | Cost: 0.0865163 \n",
      "Iter:   392 | Cost: 0.0864663 \n",
      "Iter:   393 | Cost: 0.0864163 \n",
      "Iter:   394 | Cost: 0.0863664 \n",
      "Iter:   395 | Cost: 0.0863167 \n",
      "Iter:   396 | Cost: 0.0862671 \n",
      "Iter:   397 | Cost: 0.0862176 \n",
      "Iter:   398 | Cost: 0.0861682 \n",
      "Iter:   399 | Cost: 0.0861189 \n",
      "Iter:   400 | Cost: 0.0860697 \n",
      "Iter:   401 | Cost: 0.0860206 \n",
      "Iter:   402 | Cost: 0.0859716 \n",
      "Iter:   403 | Cost: 0.0859228 \n",
      "Iter:   404 | Cost: 0.0858740 \n",
      "Iter:   405 | Cost: 0.0858253 \n",
      "Iter:   406 | Cost: 0.0857768 \n",
      "Iter:   407 | Cost: 0.0857283 \n",
      "Iter:   408 | Cost: 0.0856800 \n",
      "Iter:   409 | Cost: 0.0856317 \n",
      "Iter:   410 | Cost: 0.0855836 \n",
      "Iter:   411 | Cost: 0.0855355 \n",
      "Iter:   412 | Cost: 0.0854876 \n",
      "Iter:   413 | Cost: 0.0854397 \n",
      "Iter:   414 | Cost: 0.0853920 \n",
      "Iter:   415 | Cost: 0.0853443 \n",
      "Iter:   416 | Cost: 0.0852967 \n",
      "Iter:   417 | Cost: 0.0852493 \n",
      "Iter:   418 | Cost: 0.0852019 \n",
      "Iter:   419 | Cost: 0.0851546 \n",
      "Iter:   420 | Cost: 0.0851074 \n",
      "Iter:   421 | Cost: 0.0850603 \n",
      "Iter:   422 | Cost: 0.0850133 \n",
      "Iter:   423 | Cost: 0.0849664 \n",
      "Iter:   424 | Cost: 0.0849195 \n",
      "Iter:   425 | Cost: 0.0848728 \n",
      "Iter:   426 | Cost: 0.0848261 \n",
      "Iter:   427 | Cost: 0.0847795 \n",
      "Iter:   428 | Cost: 0.0847330 \n",
      "Iter:   429 | Cost: 0.0846866 \n",
      "Iter:   430 | Cost: 0.0846403 \n",
      "Iter:   431 | Cost: 0.0845940 \n",
      "Iter:   432 | Cost: 0.0845479 \n",
      "Iter:   433 | Cost: 0.0845018 \n",
      "Iter:   434 | Cost: 0.0844558 \n",
      "Iter:   435 | Cost: 0.0844099 \n",
      "Iter:   436 | Cost: 0.0843640 \n",
      "Iter:   437 | Cost: 0.0843182 \n",
      "Iter:   438 | Cost: 0.0842726 \n",
      "Iter:   439 | Cost: 0.0842269 \n",
      "Iter:   440 | Cost: 0.0841814 \n",
      "Iter:   441 | Cost: 0.0841359 \n",
      "Iter:   442 | Cost: 0.0840905 \n",
      "Iter:   443 | Cost: 0.0840452 \n",
      "Iter:   444 | Cost: 0.0840000 \n",
      "Iter:   445 | Cost: 0.0839548 \n",
      "Iter:   446 | Cost: 0.0839097 \n",
      "Iter:   447 | Cost: 0.0838647 \n",
      "Iter:   448 | Cost: 0.0838197 \n",
      "Iter:   449 | Cost: 0.0837748 \n",
      "Iter:   450 | Cost: 0.0837300 \n",
      "Iter:   451 | Cost: 0.0836852 \n",
      "Iter:   452 | Cost: 0.0836405 \n",
      "Iter:   453 | Cost: 0.0835959 \n",
      "Iter:   454 | Cost: 0.0835513 \n",
      "Iter:   455 | Cost: 0.0835068 \n",
      "Iter:   456 | Cost: 0.0834624 \n",
      "Iter:   457 | Cost: 0.0834180 \n",
      "Iter:   458 | Cost: 0.0833737 \n",
      "Iter:   459 | Cost: 0.0833294 \n",
      "Iter:   460 | Cost: 0.0832852 \n",
      "Iter:   461 | Cost: 0.0832411 \n",
      "Iter:   462 | Cost: 0.0831970 \n",
      "Iter:   463 | Cost: 0.0831530 \n",
      "Iter:   464 | Cost: 0.0831090 \n",
      "Iter:   465 | Cost: 0.0830651 \n",
      "Iter:   466 | Cost: 0.0830213 \n",
      "Iter:   467 | Cost: 0.0829775 \n",
      "Iter:   468 | Cost: 0.0829337 \n",
      "Iter:   469 | Cost: 0.0828901 \n",
      "Iter:   470 | Cost: 0.0828464 \n",
      "Iter:   471 | Cost: 0.0828029 \n",
      "Iter:   472 | Cost: 0.0827593 \n",
      "Iter:   473 | Cost: 0.0827159 \n",
      "Iter:   474 | Cost: 0.0826724 \n",
      "Iter:   475 | Cost: 0.0826291 \n",
      "Iter:   476 | Cost: 0.0825857 \n",
      "Iter:   477 | Cost: 0.0825425 \n",
      "Iter:   478 | Cost: 0.0824992 \n",
      "Iter:   479 | Cost: 0.0824561 \n",
      "Iter:   480 | Cost: 0.0824129 \n",
      "Iter:   481 | Cost: 0.0823699 \n",
      "Iter:   482 | Cost: 0.0823268 \n",
      "Iter:   483 | Cost: 0.0822838 \n",
      "Iter:   484 | Cost: 0.0822409 \n",
      "Iter:   485 | Cost: 0.0821980 \n",
      "Iter:   486 | Cost: 0.0821551 \n",
      "Iter:   487 | Cost: 0.0821123 \n",
      "Iter:   488 | Cost: 0.0820695 \n",
      "Iter:   489 | Cost: 0.0820268 \n",
      "Iter:   490 | Cost: 0.0819841 \n",
      "Iter:   491 | Cost: 0.0819415 \n",
      "Iter:   492 | Cost: 0.0818989 \n",
      "Iter:   493 | Cost: 0.0818563 \n",
      "Iter:   494 | Cost: 0.0818138 \n",
      "Iter:   495 | Cost: 0.0817713 \n",
      "Iter:   496 | Cost: 0.0817288 \n",
      "Iter:   497 | Cost: 0.0816864 \n",
      "Iter:   498 | Cost: 0.0816441 \n",
      "Iter:   499 | Cost: 0.0816017 \n",
      "Iter:   500 | Cost: 0.0815594 \n"
     ]
    }
   ],
   "source": [
    "opt = AdamOptimizer(0.01, beta1=0.9, beta2=0.999)\n",
    "\n",
    "var = var_init\n",
    "for it in range(500):\n",
    "    var = opt.step(lambda v: cost(v, X, Y), var)\n",
    "    print(\"Iter: {:5d} | Cost: {:0.7f} \".format(it + 1, cost(var, X, Y)))"
   ]
  },
  {
   "cell_type": "markdown",
   "metadata": {},
   "source": [
    "Finally, we collect the predictions of the trained model for 50 values\n",
    "in the range $[-1,3]$:"
   ]
  },
  {
   "cell_type": "code",
   "execution_count": 24,
   "metadata": {},
   "outputs": [],
   "source": [
    "x_pred = np.linspace(-1, 3, 50)\n",
    "predictions = [quantum_neural_net(var, x=x_) for x_ in x_pred]"
   ]
  },
  {
   "cell_type": "markdown",
   "metadata": {},
   "source": [
    "and plot the shape of the function that the model has “learned” from\n",
    "the noisy data (red dots)."
   ]
  },
  {
   "cell_type": "code",
   "execution_count": 25,
   "metadata": {},
   "outputs": [
    {
     "data": {
      "image/png": "[encoded data removed]",
      "text/plain": [
       "<Figure size 432x288 with 1 Axes>"
      ]
     },
     "metadata": {
      "needs_background": "light"
     },
     "output_type": "display_data"
    }
   ],
   "source": [
    "plt.figure()\n",
    "plt.scatter(X, Y)\n",
    "plt.scatter(x_pred, predictions, color=\"red\")\n",
    "plt.xlabel(\"x\")\n",
    "plt.ylabel(\"f(x)\")\n",
    "plt.tick_params(axis=\"both\", which=\"major\")\n",
    "plt.tick_params(axis=\"both\", which=\"minor\")\n",
    "plt.show()"
   ]
  },
  {
   "cell_type": "markdown",
   "metadata": {},
   "source": [
    "Extending the interval predicted by the model shows a drop in accuracy, which is to be expected. "
   ]
  },
  {
   "cell_type": "code",
   "execution_count": 28,
   "metadata": {},
   "outputs": [],
   "source": [
    "x_pred = np.linspace(-3, 4, 50)\n",
    "predictions = [quantum_neural_net(var, x=x_) for x_ in x_pred]"
   ]
  },
  {
   "cell_type": "code",
   "execution_count": 29,
   "metadata": {},
   "outputs": [
    {
     "data": {
      "image/png": "[encoded data removed]",
      "text/plain": [
       "<Figure size 432x288 with 1 Axes>"
      ]
     },
     "metadata": {
      "needs_background": "light"
     },
     "output_type": "display_data"
    }
   ],
   "source": [
    "plt.figure()\n",
    "plt.scatter(X, Y)\n",
    "plt.scatter(x_pred, predictions, color=\"red\")\n",
    "plt.xlabel(\"x\")\n",
    "plt.ylabel(\"f(x)\")\n",
    "plt.tick_params(axis=\"both\", which=\"major\")\n",
    "plt.tick_params(axis=\"both\", which=\"minor\")\n",
    "plt.show()"
   ]
  },
  {
   "cell_type": "code",
   "execution_count": 16,
   "metadata": {},
   "outputs": [
    {
     "data": {
      "text/plain": [
       "[<matplotlib.lines.Line2D at 0x1a1a9d68d0>]"
      ]
     },
     "execution_count": 16,
     "metadata": {},
     "output_type": "execute_result"
    },
    {
     "data": {
      "image/png": "[encoded data removed]",
      "text/plain": [
       "<Figure size 432x288 with 1 Axes>"
      ]
     },
     "metadata": {
      "needs_background": "light"
     },
     "output_type": "display_data"
    }
   ],
   "source": [
    "plt.plot(X[0:200], Y[0:200])"
   ]
  },
  {
   "cell_type": "markdown",
   "metadata": {},
   "source": [
    "Although this prediction may at first seem inaccurate, when we look at the time span of the data and notice that the model has learned a function that spans several years worth of drug sales data, extending the predictive range by several years by extending the interval $[-1, 3]$ out to $[-3, 4]$ is inevitably going to decrease accuracy in the function fitting. "
   ]
  },
  {
   "cell_type": "markdown",
   "metadata": {},
   "source": [
    "We can use PennyLane to look at typical functions that the\n",
    "model produces without being trained at all. The shape of these\n",
    "functions varies significantly with the variance hyperparameter for the\n",
    "weight initialization.\n",
    "\n",
    "Setting this hyperparameter to a small value produces almost linear\n",
    "functions, since all quantum gates in the variational circuit\n",
    "approximately perform the identity transformation in that case. Larger\n",
    "values produce smoothly oscillating functions with a period that depends\n",
    "on the number of layers used (generically, the more layers, the smaller\n",
    "the period)."
   ]
  },
  {
   "cell_type": "code",
   "execution_count": 19,
   "metadata": {},
   "outputs": [
    {
     "data": {
      "image/png": "[encoded data removed]",
      "text/plain": [
       "<Figure size 432x288 with 1 Axes>"
      ]
     },
     "metadata": {
      "needs_background": "light"
     },
     "output_type": "display_data"
    }
   ],
   "source": [
    "variance = 1.0\n",
    "\n",
    "plt.figure()\n",
    "x_pred = np.linspace(-2, 2, 50)\n",
    "for i in range(7):\n",
    "    rnd_var = variance * np.random.randn(num_layers, 7)\n",
    "    predictions = [quantum_neural_net(rnd_var, x=x_) for x_ in x_pred]\n",
    "    plt.plot(x_pred, predictions, color=\"black\")\n",
    "plt.xlabel(\"x\")\n",
    "plt.ylabel(\"f(x)\")\n",
    "plt.tick_params(axis=\"both\", which=\"major\")\n",
    "plt.tick_params(axis=\"both\", which=\"minor\")\n",
    "plt.show()"
   ]
  },
  {
   "cell_type": "markdown",
   "metadata": {},
   "source": [
    "## References\n",
    "PennyLane \"Function Fitting with a Quantum Neural Network\" \n",
    "```\n",
    "https://pennylane.ai/qml/app/quantum_neural_net.html\n",
    "```\n",
    "\n",
    "\"Generating and visualizing data from a sine wave in Python\" \n",
    "```\n",
    "https://goelhardik.github.io/2016/05/25/sampling-sine-wave/\n",
    "```\n",
    "\n",
    "\"Continuous-variable quantum neural networks, Killoran et al. (2018)\" \n",
    "```\n",
    "https://arxiv.org/abs/1806.06871>\n",
    "```\n",
    "\n",
    "\"adding noise to a signal in python\" \n",
    "```\n",
    "https://stackoverflow.com/questions/14058340/adding-noise-to-a-signal-in-python\n",
    "```\n",
    "\n",
    "\"Making A Matplotlib Scatterplot From A Pandas Dataframe\"\n",
    "```\n",
    "https://chrisalbon.com/python/data_visualization/matplotlib_scatterplot_from_pandas/\n",
    "```\n",
    "\n",
    "\"Time Series Analysis in Python – A Comprehensive Guide with Examples\"\n",
    "```\n",
    "https://towardsdatascience.com/time-series-analysis-in-python-an-introduction-70d5a5b1d52a\n",
    "```"
   ]
  },
  {
   "cell_type": "code",
   "execution_count": null,
   "metadata": {},
   "outputs": [],
   "source": []
  }
 ],
 "metadata": {
  "kernelspec": {
   "display_name": "Python 3",
   "language": "python",
   "name": "python3"
  },
  "language_info": {
   "codemirror_mode": {
    "name": "ipython",
    "version": 3
   },
   "file_extension": ".py",
   "mimetype": "text/x-python",
   "name": "python",
   "nbconvert_exporter": "python",
   "pygments_lexer": "ipython3",
   "version": "3.7.3"
  }
 },
 "nbformat": 4,
 "nbformat_minor": 4
}
