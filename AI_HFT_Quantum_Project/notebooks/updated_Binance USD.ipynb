{
 "cells": [
  {
   "cell_type": "code",
   "execution_count": 1,
   "metadata": {},
   "outputs": [],
   "source": [
    "import pandas as pd\n",
    "import numpy as np"
   ]
  },
  {
   "cell_type": "code",
   "execution_count": 2,
   "metadata": {},
   "outputs": [
    {
     "name": "stdout",
     "output_type": "stream",
     "text": [
      "updated_Binance USD.ipynb\n"
     ]
    }
   ],
   "source": [
    "ls"
   ]
  },
  {
   "cell_type": "code",
   "execution_count": 3,
   "metadata": {},
   "outputs": [],
   "source": [
    "df = pd.read_csv(\"/Users/firex/Hackathon/aihackathon24/AI_HFT_Quantum_Project/data/historical/Top 100 Crypto Coins/Binance USD.csv\")\n",
    "\n",
    "df.insert(df.columns.get_loc('Close') + 1, 'Predicted_Value', df['Open'].shift(-1))"
   ]
  },
  {
   "cell_type": "code",
   "execution_count": 4,
   "metadata": {},
   "outputs": [
    {
     "data": {
      "text/html": [
       "<div>\n",
       "<style scoped>\n",
       "    .dataframe tbody tr th:only-of-type {\n",
       "        vertical-align: middle;\n",
       "    }\n",
       "\n",
       "    .dataframe tbody tr th {\n",
       "        vertical-align: top;\n",
       "    }\n",
       "\n",
       "    .dataframe thead th {\n",
       "        text-align: right;\n",
       "    }\n",
       "</style>\n",
       "<table border=\"1\" class=\"dataframe\">\n",
       "  <thead>\n",
       "    <tr style=\"text-align: right;\">\n",
       "      <th></th>\n",
       "      <th>Date</th>\n",
       "      <th>Open</th>\n",
       "      <th>High</th>\n",
       "      <th>Low</th>\n",
       "      <th>Close</th>\n",
       "      <th>Predicted_Value</th>\n",
       "      <th>Volume</th>\n",
       "      <th>Currency</th>\n",
       "    </tr>\n",
       "  </thead>\n",
       "  <tbody>\n",
       "    <tr>\n",
       "      <th>0</th>\n",
       "      <td>2019-09-20</td>\n",
       "      <td>1.001393</td>\n",
       "      <td>1.006965</td>\n",
       "      <td>0.998945</td>\n",
       "      <td>1.001464</td>\n",
       "      <td>1.001320</td>\n",
       "      <td>255936.0</td>\n",
       "      <td>USD</td>\n",
       "    </tr>\n",
       "    <tr>\n",
       "      <th>1</th>\n",
       "      <td>2019-09-21</td>\n",
       "      <td>1.001320</td>\n",
       "      <td>1.007052</td>\n",
       "      <td>1.000069</td>\n",
       "      <td>1.001984</td>\n",
       "      <td>1.002346</td>\n",
       "      <td>172854.0</td>\n",
       "      <td>USD</td>\n",
       "    </tr>\n",
       "    <tr>\n",
       "      <th>2</th>\n",
       "      <td>2019-09-22</td>\n",
       "      <td>1.002346</td>\n",
       "      <td>1.007011</td>\n",
       "      <td>0.998558</td>\n",
       "      <td>1.003114</td>\n",
       "      <td>1.003591</td>\n",
       "      <td>150590.0</td>\n",
       "      <td>USD</td>\n",
       "    </tr>\n",
       "    <tr>\n",
       "      <th>3</th>\n",
       "      <td>2019-09-23</td>\n",
       "      <td>1.003591</td>\n",
       "      <td>1.012758</td>\n",
       "      <td>0.999545</td>\n",
       "      <td>1.002431</td>\n",
       "      <td>1.002344</td>\n",
       "      <td>1532224.0</td>\n",
       "      <td>USD</td>\n",
       "    </tr>\n",
       "    <tr>\n",
       "      <th>4</th>\n",
       "      <td>2019-09-24</td>\n",
       "      <td>1.002344</td>\n",
       "      <td>1.059820</td>\n",
       "      <td>0.994858</td>\n",
       "      <td>1.007416</td>\n",
       "      <td>1.006297</td>\n",
       "      <td>4110761.0</td>\n",
       "      <td>USD</td>\n",
       "    </tr>\n",
       "  </tbody>\n",
       "</table>\n",
       "</div>"
      ],
      "text/plain": [
       "         Date      Open      High       Low     Close  Predicted_Value  \\\n",
       "0  2019-09-20  1.001393  1.006965  0.998945  1.001464         1.001320   \n",
       "1  2019-09-21  1.001320  1.007052  1.000069  1.001984         1.002346   \n",
       "2  2019-09-22  1.002346  1.007011  0.998558  1.003114         1.003591   \n",
       "3  2019-09-23  1.003591  1.012758  0.999545  1.002431         1.002344   \n",
       "4  2019-09-24  1.002344  1.059820  0.994858  1.007416         1.006297   \n",
       "\n",
       "      Volume Currency  \n",
       "0   255936.0      USD  \n",
       "1   172854.0      USD  \n",
       "2   150590.0      USD  \n",
       "3  1532224.0      USD  \n",
       "4  4110761.0      USD  "
      ]
     },
     "execution_count": 4,
     "metadata": {},
     "output_type": "execute_result"
    }
   ],
   "source": [
    "df.head(5)"
   ]
  },
  {
   "cell_type": "code",
   "execution_count": null,
   "metadata": {},
   "outputs": [],
   "source": []
  },
  {
   "cell_type": "code",
   "execution_count": 5,
   "metadata": {},
   "outputs": [],
   "source": [
    "df.to_csv(\"/Users/firex/Hackathon/aihackathon24/AI_HFT_Quantum_Project/data/processed/updated_Binance USD.csv\",index=False)\n"
   ]
  },
  {
   "cell_type": "code",
   "execution_count": null,
   "metadata": {},
   "outputs": [],
   "source": []
  }
 ],
 "metadata": {
  "kernelspec": {
   "display_name": "base",
   "language": "python",
   "name": "python3"
  },
  "language_info": {
   "codemirror_mode": {
    "name": "ipython",
    "version": 3
   },
   "file_extension": ".py",
   "mimetype": "text/x-python",
   "name": "python",
   "nbconvert_exporter": "python",
   "pygments_lexer": "ipython3",
   "version": "3.10.12"
  }
 },
 "nbformat": 4,
 "nbformat_minor": 2
}
