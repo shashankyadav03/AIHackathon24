{
 "cells": [
  {
   "cell_type": "code",
   "execution_count": 1,
   "metadata": {},
   "outputs": [],
   "source": [
    "import wandb"
   ]
  },
  {
   "cell_type": "code",
   "execution_count": 2,
   "metadata": {},
   "outputs": [],
   "source": [
    "# pip install wandb"
   ]
  },
  {
   "cell_type": "code",
   "execution_count": 3,
   "metadata": {},
   "outputs": [],
   "source": [
    "# pip install setuptools==58"
   ]
  },
  {
   "cell_type": "code",
   "execution_count": 4,
   "metadata": {},
   "outputs": [],
   "source": [
    "# pip install pygooglenews --upgrade"
   ]
  },
  {
   "cell_type": "code",
   "execution_count": 5,
   "metadata": {},
   "outputs": [],
   "source": [
    "# pip install --upgrade feedparser"
   ]
  },
  {
   "cell_type": "code",
   "execution_count": 6,
   "metadata": {},
   "outputs": [],
   "source": [
    "from pygooglenews import GoogleNews\n",
    "gn = GoogleNews()"
   ]
  },
  {
   "cell_type": "code",
   "execution_count": 7,
   "metadata": {},
   "outputs": [],
   "source": [
    "headline_list= []\n",
    "crypto_list = []\n",
    "\n",
    "CRYPTOs = ['bitcoin' ,'eth', 'cardano', 'safemoon', 'altcoin', 'litecoin', 'fantom' ]\n",
    "for crypto in CRYPTOs:\n",
    "    response = gn. search (crypto)\n",
    "    for r in response['entries']:\n",
    "        headline_list.append(r['title'])\n",
    "        crypto_list.append (crypto)"
   ]
  },
  {
   "cell_type": "code",
   "execution_count": 8,
   "metadata": {},
   "outputs": [
    {
     "data": {
      "text/plain": [
       "694"
      ]
     },
     "execution_count": 8,
     "metadata": {},
     "output_type": "execute_result"
    }
   ],
   "source": [
    "len(headline_list)"
   ]
  },
  {
   "cell_type": "code",
   "execution_count": 9,
   "metadata": {},
   "outputs": [],
   "source": [
    "# pip install transformers"
   ]
  },
  {
   "cell_type": "code",
   "execution_count": 10,
   "metadata": {},
   "outputs": [
    {
     "name": "stderr",
     "output_type": "stream",
     "text": [
      "/Users/firex/anaconda3/lib/python3.10/site-packages/tqdm/auto.py:21: TqdmWarning: IProgress not found. Please update jupyter and ipywidgets. See https://ipywidgets.readthedocs.io/en/stable/user_install.html\n",
      "  from .autonotebook import tqdm as notebook_tqdm\n",
      "/Users/firex/anaconda3/lib/python3.10/site-packages/torch/_utils.py:831: UserWarning: TypedStorage is deprecated. It will be removed in the future and UntypedStorage will be the only storage class. This should only matter to you if you are using storages directly.  To access UntypedStorage directly, use tensor.untyped_storage() instead of tensor.storage()\n",
      "  return self.fget.__get__(instance, owner)()\n"
     ]
    }
   ],
   "source": [
    "from transformers import AutoTokenizer, AutoModelForSequenceClassification\n",
    "tokenizer = AutoTokenizer.from_pretrained ( \"ProsusAI/finbert\")\n",
    "model = AutoModelForSequenceClassification.from_pretrained(\"ProsusAI/finbert\")"
   ]
  },
  {
   "cell_type": "code",
   "execution_count": 11,
   "metadata": {},
   "outputs": [
    {
     "name": "stderr",
     "output_type": "stream",
     "text": [
      "Failed to detect the name of this notebook, you can set it manually with the WANDB_NOTEBOOK_NAME environment variable to enable code saving.\n",
      "\u001b[34m\u001b[1mwandb\u001b[0m: Currently logged in as: \u001b[33manthonybreeganzo02\u001b[0m (\u001b[33mai_hackathon\u001b[0m). Use \u001b[1m`wandb login --relogin`\u001b[0m to force relogin\n"
     ]
    },
    {
     "data": {
      "text/html": [
       "Tracking run with wandb version 0.16.4"
      ],
      "text/plain": [
       "<IPython.core.display.HTML object>"
      ]
     },
     "metadata": {},
     "output_type": "display_data"
    },
    {
     "data": {
      "text/html": [
       "Run data is saved locally in <code>/Users/firex/Hackathon/aihackathon24/AI_HFT_Quantum_Project/notebooks/wandb/run-20240309_185102-aeuka8lz</code>"
      ],
      "text/plain": [
       "<IPython.core.display.HTML object>"
      ]
     },
     "metadata": {},
     "output_type": "display_data"
    },
    {
     "data": {
      "text/html": [
       "Syncing run <strong><a href='https://wandb.ai/ai_hackathon/CryptoCurrency%20Headline_Sentiment_Analysis/runs/aeuka8lz' target=\"_blank\">rural-glitter-4</a></strong> to <a href='https://wandb.ai/ai_hackathon/CryptoCurrency%20Headline_Sentiment_Analysis' target=\"_blank\">Weights & Biases</a> (<a href='https://wandb.me/run' target=\"_blank\">docs</a>)<br/>"
      ],
      "text/plain": [
       "<IPython.core.display.HTML object>"
      ]
     },
     "metadata": {},
     "output_type": "display_data"
    },
    {
     "data": {
      "text/html": [
       " View project at <a href='https://wandb.ai/ai_hackathon/CryptoCurrency%20Headline_Sentiment_Analysis' target=\"_blank\">https://wandb.ai/ai_hackathon/CryptoCurrency%20Headline_Sentiment_Analysis</a>"
      ],
      "text/plain": [
       "<IPython.core.display.HTML object>"
      ]
     },
     "metadata": {},
     "output_type": "display_data"
    },
    {
     "data": {
      "text/html": [
       " View run at <a href='https://wandb.ai/ai_hackathon/CryptoCurrency%20Headline_Sentiment_Analysis/runs/aeuka8lz' target=\"_blank\">https://wandb.ai/ai_hackathon/CryptoCurrency%20Headline_Sentiment_Analysis/runs/aeuka8lz</a>"
      ],
      "text/plain": [
       "<IPython.core.display.HTML object>"
      ]
     },
     "metadata": {},
     "output_type": "display_data"
    }
   ],
   "source": [
    "import wandb\n",
    "wandb.init(project=\"CryptoCurrency Headline_Sentiment_Analysis\")\n",
    "headlines_table = wandb.Table(columns=[\"Headline\", \"Crypto\", \"Positive\", \"Negative\", \"Neutral\"] )"
   ]
  },
  {
   "cell_type": "code",
   "execution_count": 12,
   "metadata": {},
   "outputs": [
    {
     "name": "stdout",
     "output_type": "stream",
     "text": [
      " 1/6\n",
      " 101/6\n",
      " 201/6\n",
      " 301/6\n",
      " 401/6\n",
      " 501/6\n",
      " 601/6\n",
      "<class 'wandb.data_types.Table'>\n"
     ]
    }
   ],
   "source": [
    "import torch\n",
    "def chunkList(list,n) :\n",
    "    for i in range(0, len(list),n):\n",
    "        yield list[i:i+n]\n",
    "n=0\n",
    "chunkSize = 100\n",
    "model.eval()\n",
    "for lines, cryptos in zip(chunkList (headline_list,chunkSize), chunkList (crypto_list, chunkSize) ):\n",
    "    input = tokenizer (lines, padding=True, truncation=True, return_tensors='pt')\n",
    "    outputs = model (**input)\n",
    "    prediction = torch.nn.functional.softmax(outputs.logits,dim=-1)\n",
    "    print(f\" {n+1}/{int(len (headline_list)/chunkSize)}\")\n",
    "    for headline, crypto, pos, neg, neutr in zip(lines, cryptos, prediction[:,0].tolist(), prediction[:, 1]. tolist (), prediction[:, 1]. tolist ()):\n",
    "        headlines_table.add_data (headline,crypto,pos,neg, neutr)\n",
    "        n=n+1\n",
    "print(type(headlines_table))"
   ]
  },
  {
   "cell_type": "code",
   "execution_count": 13,
   "metadata": {},
   "outputs": [
    {
     "name": "stderr",
     "output_type": "stream",
     "text": [
      "huggingface/tokenizers: The current process just got forked, after parallelism has already been used. Disabling parallelism to avoid deadlocks...\n",
      "To disable this warning, you can either:\n",
      "\t- Avoid using `tokenizers` before the fork if possible\n",
      "\t- Explicitly set the environment variable TOKENIZERS_PARALLELISM=(true | false)\n",
      "wandb: WARNING Source type is set to 'repo' but some required information is missing from the environment. A job will not be created from this run. See https://docs.wandb.ai/guides/launch/create-job\n"
     ]
    },
    {
     "data": {
      "text/html": [
       " View run <strong style=\"color:#cdcd00\">rural-glitter-4</strong> at: <a href='https://wandb.ai/ai_hackathon/CryptoCurrency%20Headline_Sentiment_Analysis/runs/aeuka8lz' target=\"_blank\">https://wandb.ai/ai_hackathon/CryptoCurrency%20Headline_Sentiment_Analysis/runs/aeuka8lz</a><br/>Synced 6 W&B file(s), 1 media file(s), 1 artifact file(s) and 0 other file(s)"
      ],
      "text/plain": [
       "<IPython.core.display.HTML object>"
      ]
     },
     "metadata": {},
     "output_type": "display_data"
    },
    {
     "data": {
      "text/html": [
       "Find logs at: <code>./wandb/run-20240309_185102-aeuka8lz/logs</code>"
      ],
      "text/plain": [
       "<IPython.core.display.HTML object>"
      ]
     },
     "metadata": {},
     "output_type": "display_data"
    }
   ],
   "source": [
    "wandb.run.log({\"Cryptocurrency Sentiment Analysis Table \": headlines_table})\n",
    "wandb.run.finish()"
   ]
  },
  {
   "cell_type": "code",
   "execution_count": 14,
   "metadata": {},
   "outputs": [],
   "source": [
    "import pandas as pd\n",
    "table_data = headlines_table.data\n",
    "df = pd.DataFrame(table_data, columns=headlines_table.columns)\n",
    "df.to_csv(\"/Users/firex/Hackathon/aihackathon24/AI_HFT_Quantum_Project/data/processed/Setimental_Analysis.csv\", index=False)"
   ]
  },
  {
   "cell_type": "code",
   "execution_count": 15,
   "metadata": {},
   "outputs": [
    {
     "data": {
      "text/html": [
       "<div>\n",
       "<style scoped>\n",
       "    .dataframe tbody tr th:only-of-type {\n",
       "        vertical-align: middle;\n",
       "    }\n",
       "\n",
       "    .dataframe tbody tr th {\n",
       "        vertical-align: top;\n",
       "    }\n",
       "\n",
       "    .dataframe thead th {\n",
       "        text-align: right;\n",
       "    }\n",
       "</style>\n",
       "<table border=\"1\" class=\"dataframe\">\n",
       "  <thead>\n",
       "    <tr style=\"text-align: right;\">\n",
       "      <th></th>\n",
       "      <th>Headline</th>\n",
       "      <th>Crypto</th>\n",
       "      <th>Positive</th>\n",
       "      <th>Negative</th>\n",
       "      <th>Neutral</th>\n",
       "    </tr>\n",
       "  </thead>\n",
       "  <tbody>\n",
       "    <tr>\n",
       "      <th>0</th>\n",
       "      <td>Bitcoin Halving: What It Means, Potential Impa...</td>\n",
       "      <td>bitcoin</td>\n",
       "      <td>0.032197</td>\n",
       "      <td>0.264306</td>\n",
       "      <td>0.264306</td>\n",
       "    </tr>\n",
       "    <tr>\n",
       "      <th>1</th>\n",
       "      <td>Bitcoin Miners Are Devouring Energy at a Recor...</td>\n",
       "      <td>bitcoin</td>\n",
       "      <td>0.056784</td>\n",
       "      <td>0.043786</td>\n",
       "      <td>0.043786</td>\n",
       "    </tr>\n",
       "    <tr>\n",
       "      <th>2</th>\n",
       "      <td>How to capitalize on the Bitcoin halving - Coi...</td>\n",
       "      <td>bitcoin</td>\n",
       "      <td>0.118363</td>\n",
       "      <td>0.011485</td>\n",
       "      <td>0.011485</td>\n",
       "    </tr>\n",
       "    <tr>\n",
       "      <th>3</th>\n",
       "      <td>Bitcoin breaks $70,000 in volatile trading, hi...</td>\n",
       "      <td>bitcoin</td>\n",
       "      <td>0.512938</td>\n",
       "      <td>0.071788</td>\n",
       "      <td>0.071788</td>\n",
       "    </tr>\n",
       "    <tr>\n",
       "      <th>4</th>\n",
       "      <td>Bitcoin’s black swan event: How the return of ...</td>\n",
       "      <td>bitcoin</td>\n",
       "      <td>0.055200</td>\n",
       "      <td>0.043232</td>\n",
       "      <td>0.043232</td>\n",
       "    </tr>\n",
       "    <tr>\n",
       "      <th>5</th>\n",
       "      <td>SEC's Gensler says crypto 'rife with abuses an...</td>\n",
       "      <td>bitcoin</td>\n",
       "      <td>0.440768</td>\n",
       "      <td>0.169024</td>\n",
       "      <td>0.169024</td>\n",
       "    </tr>\n",
       "    <tr>\n",
       "      <th>6</th>\n",
       "      <td>‘More Dangerous’ Than Nukes—China And Russia R...</td>\n",
       "      <td>bitcoin</td>\n",
       "      <td>0.094116</td>\n",
       "      <td>0.222146</td>\n",
       "      <td>0.222146</td>\n",
       "    </tr>\n",
       "    <tr>\n",
       "      <th>7</th>\n",
       "      <td>Why Bitcoin Just Hit Its All - TIME</td>\n",
       "      <td>bitcoin</td>\n",
       "      <td>0.245069</td>\n",
       "      <td>0.034447</td>\n",
       "      <td>0.034447</td>\n",
       "    </tr>\n",
       "    <tr>\n",
       "      <th>8</th>\n",
       "      <td>This Week in Coins: Bitcoin Touches $70,000 As...</td>\n",
       "      <td>bitcoin</td>\n",
       "      <td>0.445889</td>\n",
       "      <td>0.074235</td>\n",
       "      <td>0.074235</td>\n",
       "    </tr>\n",
       "    <tr>\n",
       "      <th>9</th>\n",
       "      <td>Bitcoin bulls eye $100,000 as the next level b...</td>\n",
       "      <td>bitcoin</td>\n",
       "      <td>0.077182</td>\n",
       "      <td>0.018737</td>\n",
       "      <td>0.018737</td>\n",
       "    </tr>\n",
       "  </tbody>\n",
       "</table>\n",
       "</div>"
      ],
      "text/plain": [
       "                                            Headline   Crypto  Positive  \\\n",
       "0  Bitcoin Halving: What It Means, Potential Impa...  bitcoin  0.032197   \n",
       "1  Bitcoin Miners Are Devouring Energy at a Recor...  bitcoin  0.056784   \n",
       "2  How to capitalize on the Bitcoin halving - Coi...  bitcoin  0.118363   \n",
       "3  Bitcoin breaks $70,000 in volatile trading, hi...  bitcoin  0.512938   \n",
       "4  Bitcoin’s black swan event: How the return of ...  bitcoin  0.055200   \n",
       "5  SEC's Gensler says crypto 'rife with abuses an...  bitcoin  0.440768   \n",
       "6  ‘More Dangerous’ Than Nukes—China And Russia R...  bitcoin  0.094116   \n",
       "7                Why Bitcoin Just Hit Its All - TIME  bitcoin  0.245069   \n",
       "8  This Week in Coins: Bitcoin Touches $70,000 As...  bitcoin  0.445889   \n",
       "9  Bitcoin bulls eye $100,000 as the next level b...  bitcoin  0.077182   \n",
       "\n",
       "   Negative   Neutral  \n",
       "0  0.264306  0.264306  \n",
       "1  0.043786  0.043786  \n",
       "2  0.011485  0.011485  \n",
       "3  0.071788  0.071788  \n",
       "4  0.043232  0.043232  \n",
       "5  0.169024  0.169024  \n",
       "6  0.222146  0.222146  \n",
       "7  0.034447  0.034447  \n",
       "8  0.074235  0.074235  \n",
       "9  0.018737  0.018737  "
      ]
     },
     "execution_count": 15,
     "metadata": {},
     "output_type": "execute_result"
    }
   ],
   "source": [
    "df.head(10)"
   ]
  },
  {
   "cell_type": "code",
   "execution_count": null,
   "metadata": {},
   "outputs": [],
   "source": []
  }
 ],
 "metadata": {
  "kernelspec": {
   "display_name": "base",
   "language": "python",
   "name": "python3"
  },
  "language_info": {
   "codemirror_mode": {
    "name": "ipython",
    "version": 3
   },
   "file_extension": ".py",
   "mimetype": "text/x-python",
   "name": "python",
   "nbconvert_exporter": "python",
   "pygments_lexer": "ipython3",
   "version": "3.10.12"
  }
 },
 "nbformat": 4,
 "nbformat_minor": 2
}
