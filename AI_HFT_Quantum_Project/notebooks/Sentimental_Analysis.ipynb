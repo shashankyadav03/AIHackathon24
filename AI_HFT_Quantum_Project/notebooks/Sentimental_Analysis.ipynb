{
 "cells": [
  {
   "cell_type": "code",
   "execution_count": 2,
   "metadata": {},
   "outputs": [],
   "source": [
    "import wandb"
   ]
  },
  {
   "cell_type": "code",
   "execution_count": 3,
   "metadata": {},
   "outputs": [
    {
     "name": "stdout",
     "output_type": "stream",
     "text": [
      "Requirement already satisfied: wandb in /Users/nikitasomani/anaconda3/lib/python3.11/site-packages (0.16.4)\n",
      "Requirement already satisfied: Click!=8.0.0,>=7.1 in /Users/nikitasomani/anaconda3/lib/python3.11/site-packages (from wandb) (8.0.4)\n",
      "Requirement already satisfied: GitPython!=3.1.29,>=1.0.0 in /Users/nikitasomani/anaconda3/lib/python3.11/site-packages (from wandb) (3.1.42)\n",
      "Requirement already satisfied: requests<3,>=2.0.0 in /Users/nikitasomani/anaconda3/lib/python3.11/site-packages (from wandb) (2.31.0)\n",
      "Requirement already satisfied: psutil>=5.0.0 in /Users/nikitasomani/anaconda3/lib/python3.11/site-packages (from wandb) (5.9.0)\n",
      "Requirement already satisfied: sentry-sdk>=1.0.0 in /Users/nikitasomani/anaconda3/lib/python3.11/site-packages (from wandb) (1.41.0)\n",
      "Requirement already satisfied: docker-pycreds>=0.4.0 in /Users/nikitasomani/anaconda3/lib/python3.11/site-packages (from wandb) (0.4.0)\n",
      "Requirement already satisfied: PyYAML in /Users/nikitasomani/anaconda3/lib/python3.11/site-packages (from wandb) (6.0)\n",
      "Requirement already satisfied: setproctitle in /Users/nikitasomani/anaconda3/lib/python3.11/site-packages (from wandb) (1.3.3)\n",
      "Requirement already satisfied: setuptools in /Users/nikitasomani/anaconda3/lib/python3.11/site-packages (from wandb) (68.0.0)\n",
      "Requirement already satisfied: appdirs>=1.4.3 in /Users/nikitasomani/anaconda3/lib/python3.11/site-packages (from wandb) (1.4.4)\n",
      "Requirement already satisfied: protobuf!=4.21.0,<5,>=3.19.0 in /Users/nikitasomani/anaconda3/lib/python3.11/site-packages (from wandb) (4.25.3)\n",
      "Requirement already satisfied: six>=1.4.0 in /Users/nikitasomani/anaconda3/lib/python3.11/site-packages (from docker-pycreds>=0.4.0->wandb) (1.16.0)\n",
      "Requirement already satisfied: gitdb<5,>=4.0.1 in /Users/nikitasomani/anaconda3/lib/python3.11/site-packages (from GitPython!=3.1.29,>=1.0.0->wandb) (4.0.11)\n",
      "Requirement already satisfied: charset-normalizer<4,>=2 in /Users/nikitasomani/anaconda3/lib/python3.11/site-packages (from requests<3,>=2.0.0->wandb) (2.0.4)\n",
      "Requirement already satisfied: idna<4,>=2.5 in /Users/nikitasomani/anaconda3/lib/python3.11/site-packages (from requests<3,>=2.0.0->wandb) (3.4)\n",
      "Requirement already satisfied: urllib3<3,>=1.21.1 in /Users/nikitasomani/anaconda3/lib/python3.11/site-packages (from requests<3,>=2.0.0->wandb) (1.26.16)\n",
      "Requirement already satisfied: certifi>=2017.4.17 in /Users/nikitasomani/anaconda3/lib/python3.11/site-packages (from requests<3,>=2.0.0->wandb) (2023.7.22)\n",
      "Requirement already satisfied: smmap<6,>=3.0.1 in /Users/nikitasomani/anaconda3/lib/python3.11/site-packages (from gitdb<5,>=4.0.1->GitPython!=3.1.29,>=1.0.0->wandb) (5.0.1)\n",
      "Note: you may need to restart the kernel to use updated packages.\n"
     ]
    }
   ],
   "source": [
    "pip install wandb"
   ]
  },
  {
   "cell_type": "code",
   "execution_count": 4,
   "metadata": {},
   "outputs": [
    {
     "name": "stdout",
     "output_type": "stream",
     "text": [
      "Collecting setuptools==58\n",
      "  Obtaining dependency information for setuptools==58 from https://files.pythonhosted.org/packages/57/5a/80fd2846d0151aa81a13540afc97be49f8fa19752933172b76854ba90adc/setuptools-58.0.0-py3-none-any.whl.metadata\n",
      "  Downloading setuptools-58.0.0-py3-none-any.whl.metadata (4.9 kB)\n",
      "Using cached setuptools-58.0.0-py3-none-any.whl (816 kB)\n",
      "Installing collected packages: setuptools\n",
      "  Attempting uninstall: setuptools\n",
      "    Found existing installation: setuptools 68.0.0\n",
      "    Uninstalling setuptools-68.0.0:\n",
      "      Successfully uninstalled setuptools-68.0.0\n",
      "\u001b[31mERROR: pip's dependency resolver does not currently take into account all the packages that are installed. This behaviour is the source of the following dependency conflicts.\n",
      "conda-repo-cli 1.0.75 requires requests_mock, which is not installed.\n",
      "spyder 5.4.3 requires pyqt5<5.16, which is not installed.\n",
      "spyder 5.4.3 requires pyqtwebengine<5.16, which is not installed.\n",
      "conda-repo-cli 1.0.75 requires clyent==1.2.1, but you have clyent 1.2.2 which is incompatible.\n",
      "conda-repo-cli 1.0.75 requires PyYAML==6.0.1, but you have pyyaml 6.0 which is incompatible.\n",
      "conda 23.7.4 requires setuptools>=60.0.0, but you have setuptools 58.0.0 which is incompatible.\n",
      "python-lsp-black 1.2.1 requires black>=22.3.0, but you have black 0.0 which is incompatible.\n",
      "anaconda-client 1.12.1 requires setuptools>=58.0.4, but you have setuptools 58.0.0 which is incompatible.\u001b[0m\u001b[31m\n",
      "\u001b[0mSuccessfully installed setuptools-58.0.0\n",
      "Note: you may need to restart the kernel to use updated packages.\n"
     ]
    }
   ],
   "source": [
    "pip install setuptools==58"
   ]
  },
  {
   "cell_type": "code",
   "execution_count": 5,
   "metadata": {},
   "outputs": [
    {
     "name": "stdout",
     "output_type": "stream",
     "text": [
      "Collecting pygooglenews\n",
      "  Obtaining dependency information for pygooglenews from https://files.pythonhosted.org/packages/59/cb/84f162888a07e501630f6be7c70997c5c8afd5ba4a40c3a079c321e97c29/pygooglenews-0.1.2-py3-none-any.whl.metadata\n",
      "  Downloading pygooglenews-0.1.2-py3-none-any.whl.metadata (19 kB)\n",
      "Requirement already satisfied: beautifulsoup4<5.0.0,>=4.9.1 in /Users/nikitasomani/anaconda3/lib/python3.11/site-packages (from pygooglenews) (4.12.2)\n",
      "Collecting dateparser<0.8.0,>=0.7.6 (from pygooglenews)\n",
      "  Obtaining dependency information for dateparser<0.8.0,>=0.7.6 from https://files.pythonhosted.org/packages/c1/d5/5a2e51bc0058f66b54669735f739d27afc3eb453ab00520623c7ab168e22/dateparser-0.7.6-py2.py3-none-any.whl.metadata\n",
      "  Downloading dateparser-0.7.6-py2.py3-none-any.whl.metadata (26 kB)\n",
      "Collecting feedparser<6.0.0,>=5.2.1 (from pygooglenews)\n",
      "  Using cached feedparser-5.2.1.zip (1.2 MB)\n",
      "  Preparing metadata (setup.py) ... \u001b[?25ldone\n",
      "\u001b[?25hRequirement already satisfied: requests<3.0.0,>=2.24.0 in /Users/nikitasomani/anaconda3/lib/python3.11/site-packages (from pygooglenews) (2.31.0)\n",
      "Requirement already satisfied: soupsieve>1.2 in /Users/nikitasomani/anaconda3/lib/python3.11/site-packages (from beautifulsoup4<5.0.0,>=4.9.1->pygooglenews) (2.4)\n",
      "Requirement already satisfied: python-dateutil in /Users/nikitasomani/anaconda3/lib/python3.11/site-packages (from dateparser<0.8.0,>=0.7.6->pygooglenews) (2.8.2)\n",
      "Requirement already satisfied: pytz in /Users/nikitasomani/anaconda3/lib/python3.11/site-packages (from dateparser<0.8.0,>=0.7.6->pygooglenews) (2023.3.post1)\n",
      "Requirement already satisfied: regex!=2019.02.19 in /Users/nikitasomani/anaconda3/lib/python3.11/site-packages (from dateparser<0.8.0,>=0.7.6->pygooglenews) (2022.7.9)\n",
      "Collecting tzlocal (from dateparser<0.8.0,>=0.7.6->pygooglenews)\n",
      "  Obtaining dependency information for tzlocal from https://files.pythonhosted.org/packages/97/3f/c4c51c55ff8487f2e6d0e618dba917e3c3ee2caae6cf0fbb59c9b1876f2e/tzlocal-5.2-py3-none-any.whl.metadata\n",
      "  Downloading tzlocal-5.2-py3-none-any.whl.metadata (7.8 kB)\n",
      "Requirement already satisfied: charset-normalizer<4,>=2 in /Users/nikitasomani/anaconda3/lib/python3.11/site-packages (from requests<3.0.0,>=2.24.0->pygooglenews) (2.0.4)\n",
      "Requirement already satisfied: idna<4,>=2.5 in /Users/nikitasomani/anaconda3/lib/python3.11/site-packages (from requests<3.0.0,>=2.24.0->pygooglenews) (3.4)\n",
      "Requirement already satisfied: urllib3<3,>=1.21.1 in /Users/nikitasomani/anaconda3/lib/python3.11/site-packages (from requests<3.0.0,>=2.24.0->pygooglenews) (1.26.16)\n",
      "Requirement already satisfied: certifi>=2017.4.17 in /Users/nikitasomani/anaconda3/lib/python3.11/site-packages (from requests<3.0.0,>=2.24.0->pygooglenews) (2023.7.22)\n",
      "Requirement already satisfied: six>=1.5 in /Users/nikitasomani/anaconda3/lib/python3.11/site-packages (from python-dateutil->dateparser<0.8.0,>=0.7.6->pygooglenews) (1.16.0)\n",
      "Using cached pygooglenews-0.1.2-py3-none-any.whl (10 kB)\n",
      "Using cached dateparser-0.7.6-py2.py3-none-any.whl (362 kB)\n",
      "Using cached tzlocal-5.2-py3-none-any.whl (17 kB)\n",
      "Building wheels for collected packages: feedparser\n",
      "  Building wheel for feedparser (setup.py) ... \u001b[?25ldone\n",
      "\u001b[?25h  Created wheel for feedparser: filename=feedparser-5.2.1-py3-none-any.whl size=45011 sha256=c452f2f2b71c772514a14b412064cac2220598af2f51377b949e424aeab3daff\n",
      "  Stored in directory: /Users/nikitasomani/Library/Caches/pip/wheels/d6/e5/d0/06c9fb1825e24d914603ee08348271f25dcf077f7fcf95b2bf\n",
      "Successfully built feedparser\n",
      "Installing collected packages: feedparser, tzlocal, dateparser, pygooglenews\n",
      "Successfully installed dateparser-0.7.6 feedparser-5.2.1 pygooglenews-0.1.2 tzlocal-5.2\n",
      "Note: you may need to restart the kernel to use updated packages.\n"
     ]
    }
   ],
   "source": [
    "pip install pygooglenews --upgrade"
   ]
  },
  {
   "cell_type": "code",
   "execution_count": 6,
   "metadata": {},
   "outputs": [
    {
     "name": "stdout",
     "output_type": "stream",
     "text": [
      "Requirement already satisfied: feedparser in /Users/nikitasomani/anaconda3/lib/python3.11/site-packages (5.2.1)\n",
      "Collecting feedparser\n",
      "  Obtaining dependency information for feedparser from https://files.pythonhosted.org/packages/7c/d4/8c31aad9cc18f451c49f7f9cfb5799dadffc88177f7917bc90a66459b1d7/feedparser-6.0.11-py3-none-any.whl.metadata\n",
      "  Downloading feedparser-6.0.11-py3-none-any.whl.metadata (2.4 kB)\n",
      "Collecting sgmllib3k (from feedparser)\n",
      "  Using cached sgmllib3k-1.0.0.tar.gz (5.8 kB)\n",
      "  Preparing metadata (setup.py) ... \u001b[?25ldone\n",
      "\u001b[?25hUsing cached feedparser-6.0.11-py3-none-any.whl (81 kB)\n",
      "Building wheels for collected packages: sgmllib3k\n",
      "  Building wheel for sgmllib3k (setup.py) ... \u001b[?25ldone\n",
      "\u001b[?25h  Created wheel for sgmllib3k: filename=sgmllib3k-1.0.0-py3-none-any.whl size=6066 sha256=cc30f52e448d808e69cf2049cfc3d5e359161e842d0b334b7a415ff48769846d\n",
      "  Stored in directory: /Users/nikitasomani/Library/Caches/pip/wheels/3b/25/2a/105d6a15df6914f4d15047691c6c28f9052cc1173e40285d03\n",
      "Successfully built sgmllib3k\n",
      "Installing collected packages: sgmllib3k, feedparser\n",
      "  Attempting uninstall: feedparser\n",
      "    Found existing installation: feedparser 5.2.1\n",
      "    Uninstalling feedparser-5.2.1:\n",
      "      Successfully uninstalled feedparser-5.2.1\n",
      "\u001b[31mERROR: pip's dependency resolver does not currently take into account all the packages that are installed. This behaviour is the source of the following dependency conflicts.\n",
      "pygooglenews 0.1.2 requires feedparser<6.0.0,>=5.2.1, but you have feedparser 6.0.11 which is incompatible.\u001b[0m\u001b[31m\n",
      "\u001b[0mSuccessfully installed feedparser-6.0.11 sgmllib3k-1.0.0\n",
      "Note: you may need to restart the kernel to use updated packages.\n"
     ]
    }
   ],
   "source": [
    "pip install --upgrade feedparser"
   ]
  },
  {
   "cell_type": "code",
   "execution_count": 7,
   "metadata": {},
   "outputs": [],
   "source": [
    "from pygooglenews import GoogleNews\n",
    "gn = GoogleNews()"
   ]
  },
  {
   "cell_type": "code",
   "execution_count": 8,
   "metadata": {},
   "outputs": [],
   "source": [
    "headline_list= []\n",
    "crypto_list = []\n",
    "\n",
    "CRYPTOs = ['bitcoin' ,'eth', 'cardano', 'safemoon', 'altcoin', 'litecoin', 'fantom' ]\n",
    "for crypto in CRYPTOs:\n",
    "    response = gn. search (crypto)\n",
    "    for r in response['entries']:\n",
    "        headline_list.append(r['title'])\n",
    "        crypto_list.append (crypto)"
   ]
  },
  {
   "cell_type": "code",
   "execution_count": 9,
   "metadata": {},
   "outputs": [
    {
     "data": {
      "text/plain": [
       "695"
      ]
     },
     "execution_count": 9,
     "metadata": {},
     "output_type": "execute_result"
    }
   ],
   "source": [
    "len(headline_list)"
   ]
  },
  {
   "cell_type": "code",
   "execution_count": 10,
   "metadata": {},
   "outputs": [],
   "source": [
    "# pip install transformers"
   ]
  },
  {
   "cell_type": "code",
   "execution_count": 11,
   "metadata": {},
   "outputs": [
    {
     "name": "stderr",
     "output_type": "stream",
     "text": [
      "/Users/nikitasomani/anaconda3/lib/python3.11/site-packages/transformers/utils/generic.py:260: UserWarning: torch.utils._pytree._register_pytree_node is deprecated. Please use torch.utils._pytree.register_pytree_node instead.\n",
      "  torch.utils._pytree._register_pytree_node(\n"
     ]
    }
   ],
   "source": [
    "from transformers import AutoTokenizer, AutoModelForSequenceClassification\n",
    "tokenizer = AutoTokenizer.from_pretrained ( \"ProsusAI/finbert\")\n",
    "model = AutoModelForSequenceClassification.from_pretrained(\"ProsusAI/finbert\")"
   ]
  },
  {
   "cell_type": "code",
   "execution_count": 12,
   "metadata": {},
   "outputs": [
    {
     "name": "stderr",
     "output_type": "stream",
     "text": [
      "Failed to detect the name of this notebook, you can set it manually with the WANDB_NOTEBOOK_NAME environment variable to enable code saving.\n",
      "\u001b[34m\u001b[1mwandb\u001b[0m: Currently logged in as: \u001b[33mniksom406\u001b[0m (\u001b[33msentiment_na\u001b[0m). Use \u001b[1m`wandb login --relogin`\u001b[0m to force relogin\n"
     ]
    },
    {
     "data": {
      "text/html": [
       "Tracking run with wandb version 0.16.4"
      ],
      "text/plain": [
       "<IPython.core.display.HTML object>"
      ]
     },
     "metadata": {},
     "output_type": "display_data"
    },
    {
     "data": {
      "text/html": [
       "Run data is saved locally in <code>/Users/nikitasomani/Desktop/Hackathon/AIHackathon24/AI_HFT_Quantum_Project/notebooks/wandb/run-20240309_192645-0dhgbfi6</code>"
      ],
      "text/plain": [
       "<IPython.core.display.HTML object>"
      ]
     },
     "metadata": {},
     "output_type": "display_data"
    },
    {
     "data": {
      "text/html": [
       "Syncing run <strong><a href='https://wandb.ai/sentiment_na/CryptoCurrency%20Headline_Sentiment_Analysis/runs/0dhgbfi6' target=\"_blank\">quiet-bird-2</a></strong> to <a href='https://wandb.ai/sentiment_na/CryptoCurrency%20Headline_Sentiment_Analysis' target=\"_blank\">Weights & Biases</a> (<a href='https://wandb.me/run' target=\"_blank\">docs</a>)<br/>"
      ],
      "text/plain": [
       "<IPython.core.display.HTML object>"
      ]
     },
     "metadata": {},
     "output_type": "display_data"
    },
    {
     "data": {
      "text/html": [
       " View project at <a href='https://wandb.ai/sentiment_na/CryptoCurrency%20Headline_Sentiment_Analysis' target=\"_blank\">https://wandb.ai/sentiment_na/CryptoCurrency%20Headline_Sentiment_Analysis</a>"
      ],
      "text/plain": [
       "<IPython.core.display.HTML object>"
      ]
     },
     "metadata": {},
     "output_type": "display_data"
    },
    {
     "data": {
      "text/html": [
       " View run at <a href='https://wandb.ai/sentiment_na/CryptoCurrency%20Headline_Sentiment_Analysis/runs/0dhgbfi6' target=\"_blank\">https://wandb.ai/sentiment_na/CryptoCurrency%20Headline_Sentiment_Analysis/runs/0dhgbfi6</a>"
      ],
      "text/plain": [
       "<IPython.core.display.HTML object>"
      ]
     },
     "metadata": {},
     "output_type": "display_data"
    }
   ],
   "source": [
    "import wandb\n",
    "wandb.init(project=\"CryptoCurrency Headline_Sentiment_Analysis\")\n",
    "headlines_table = wandb.Table(columns=[\"Headline\", \"Crypto\", \"Positive\", \"Negative\", \"Neutral\"] )"
   ]
  },
  {
   "cell_type": "code",
   "execution_count": 13,
   "metadata": {},
   "outputs": [
    {
     "name": "stdout",
     "output_type": "stream",
     "text": [
      " 1/6\n",
      " 101/6\n",
      " 201/6\n",
      " 301/6\n",
      " 401/6\n",
      " 501/6\n",
      " 601/6\n",
      "<class 'wandb.data_types.Table'>\n"
     ]
    }
   ],
   "source": [
    "import torch\n",
    "def chunkList(list,n) :\n",
    "    for i in range(0, len(list),n):\n",
    "        yield list[i:i+n]\n",
    "n=0\n",
    "chunkSize = 100\n",
    "model.eval()\n",
    "for lines, cryptos in zip(chunkList (headline_list,chunkSize), chunkList (crypto_list, chunkSize) ):\n",
    "    input = tokenizer (lines, padding=True, truncation=True, return_tensors='pt')\n",
    "    outputs = model (**input)\n",
    "    prediction = torch.nn.functional.softmax(outputs.logits,dim=-1)\n",
    "    print(f\" {n+1}/{int(len (headline_list)/chunkSize)}\")\n",
    "    for headline, crypto, pos, neg, neutr in zip(lines, cryptos, prediction[:,0].tolist(), prediction[:, 1]. tolist (), prediction[:, 1]. tolist ()):\n",
    "        headlines_table.add_data (headline,crypto,pos,neg, neutr)\n",
    "        n=n+1\n",
    "print(type(headlines_table))"
   ]
  },
  {
   "cell_type": "code",
   "execution_count": 14,
   "metadata": {},
   "outputs": [
    {
     "name": "stdout",
     "output_type": "stream",
     "text": [
      "huggingface/tokenizers: The current process just got forked, after parallelism has already been used. Disabling parallelism to avoid deadlocks...\n",
      "To disable this warning, you can either:\n",
      "\t- Avoid using `tokenizers` before the fork if possible\n",
      "\t- Explicitly set the environment variable TOKENIZERS_PARALLELISM=(true | false)\n"
     ]
    },
    {
     "data": {
      "application/vnd.jupyter.widget-view+json": {
       "model_id": "8629d2ed7fb14351a9e5e4cc6704442f",
       "version_major": 2,
       "version_minor": 0
      },
      "text/plain": [
       "VBox(children=(Label(value='0.219 MB of 0.219 MB uploaded\\r'), FloatProgress(value=1.0, max=1.0)))"
      ]
     },
     "metadata": {},
     "output_type": "display_data"
    },
    {
     "name": "stderr",
     "output_type": "stream",
     "text": [
      "wandb: WARNING Source type is set to 'repo' but some required information is missing from the environment. A job will not be created from this run. See https://docs.wandb.ai/guides/launch/create-job\n"
     ]
    },
    {
     "data": {
      "text/html": [
       " View run <strong style=\"color:#cdcd00\">quiet-bird-2</strong> at: <a href='https://wandb.ai/sentiment_na/CryptoCurrency%20Headline_Sentiment_Analysis/runs/0dhgbfi6' target=\"_blank\">https://wandb.ai/sentiment_na/CryptoCurrency%20Headline_Sentiment_Analysis/runs/0dhgbfi6</a><br/>Synced 6 W&B file(s), 1 media file(s), 1 artifact file(s) and 0 other file(s)"
      ],
      "text/plain": [
       "<IPython.core.display.HTML object>"
      ]
     },
     "metadata": {},
     "output_type": "display_data"
    },
    {
     "data": {
      "text/html": [
       "Find logs at: <code>./wandb/run-20240309_192645-0dhgbfi6/logs</code>"
      ],
      "text/plain": [
       "<IPython.core.display.HTML object>"
      ]
     },
     "metadata": {},
     "output_type": "display_data"
    }
   ],
   "source": [
    "wandb.run.log({\"Cryptocurrency Sentiment Analysis Table \": headlines_table})\n",
    "wandb.run.finish()"
   ]
  },
  {
   "cell_type": "code",
   "execution_count": 22,
   "metadata": {},
   "outputs": [],
   "source": [
    "import pandas as pd\n",
    "table_data = headlines_table.data\n",
    "df = pd.DataFrame(table_data, columns=headlines_table.columns)\n",
    "df.to_csv(\"/Users/nikitasomani/Desktop/Hackathon/AIHackathon24/AI_HFT_Quantum_Project/data/processed/Sentimental_analysis.csv\", index=False)"
   ]
  },
  {
   "cell_type": "code",
   "execution_count": 21,
   "metadata": {},
   "outputs": [
    {
     "data": {
      "text/html": [
       "<div>\n",
       "<style scoped>\n",
       "    .dataframe tbody tr th:only-of-type {\n",
       "        vertical-align: middle;\n",
       "    }\n",
       "\n",
       "    .dataframe tbody tr th {\n",
       "        vertical-align: top;\n",
       "    }\n",
       "\n",
       "    .dataframe thead th {\n",
       "        text-align: right;\n",
       "    }\n",
       "</style>\n",
       "<table border=\"1\" class=\"dataframe\">\n",
       "  <thead>\n",
       "    <tr style=\"text-align: right;\">\n",
       "      <th></th>\n",
       "      <th>Headline</th>\n",
       "      <th>Crypto</th>\n",
       "      <th>Positive</th>\n",
       "      <th>Negative</th>\n",
       "      <th>Neutral</th>\n",
       "    </tr>\n",
       "  </thead>\n",
       "  <tbody>\n",
       "    <tr>\n",
       "      <th>0</th>\n",
       "      <td>Bitcoin Halving: What It Means, Potential Impa...</td>\n",
       "      <td>bitcoin</td>\n",
       "      <td>0.032197</td>\n",
       "      <td>0.264307</td>\n",
       "      <td>0.264307</td>\n",
       "    </tr>\n",
       "    <tr>\n",
       "      <th>1</th>\n",
       "      <td>Bitcoin Miners Are Devouring Energy at a Recor...</td>\n",
       "      <td>bitcoin</td>\n",
       "      <td>0.056784</td>\n",
       "      <td>0.043786</td>\n",
       "      <td>0.043786</td>\n",
       "    </tr>\n",
       "    <tr>\n",
       "      <th>2</th>\n",
       "      <td>How to capitalize on the Bitcoin halving - Coi...</td>\n",
       "      <td>bitcoin</td>\n",
       "      <td>0.118363</td>\n",
       "      <td>0.011485</td>\n",
       "      <td>0.011485</td>\n",
       "    </tr>\n",
       "    <tr>\n",
       "      <th>3</th>\n",
       "      <td>Bitcoin breaks $70,000 in volatile trading, hi...</td>\n",
       "      <td>bitcoin</td>\n",
       "      <td>0.512939</td>\n",
       "      <td>0.071788</td>\n",
       "      <td>0.071788</td>\n",
       "    </tr>\n",
       "    <tr>\n",
       "      <th>4</th>\n",
       "      <td>DeFi TVL reaches $100B as Bitcoin pumps sentim...</td>\n",
       "      <td>bitcoin</td>\n",
       "      <td>0.876630</td>\n",
       "      <td>0.016265</td>\n",
       "      <td>0.016265</td>\n",
       "    </tr>\n",
       "    <tr>\n",
       "      <th>5</th>\n",
       "      <td>Bitcoin’s black swan event: How the return of ...</td>\n",
       "      <td>bitcoin</td>\n",
       "      <td>0.055200</td>\n",
       "      <td>0.043232</td>\n",
       "      <td>0.043232</td>\n",
       "    </tr>\n",
       "    <tr>\n",
       "      <th>6</th>\n",
       "      <td>SEC's Gensler says crypto 'rife with abuses an...</td>\n",
       "      <td>bitcoin</td>\n",
       "      <td>0.440768</td>\n",
       "      <td>0.169024</td>\n",
       "      <td>0.169024</td>\n",
       "    </tr>\n",
       "    <tr>\n",
       "      <th>7</th>\n",
       "      <td>‘More Dangerous’ Than Nukes—China And Russia R...</td>\n",
       "      <td>bitcoin</td>\n",
       "      <td>0.094116</td>\n",
       "      <td>0.222146</td>\n",
       "      <td>0.222146</td>\n",
       "    </tr>\n",
       "    <tr>\n",
       "      <th>8</th>\n",
       "      <td>Why Bitcoin Just Hit Its All - TIME</td>\n",
       "      <td>bitcoin</td>\n",
       "      <td>0.245069</td>\n",
       "      <td>0.034447</td>\n",
       "      <td>0.034447</td>\n",
       "    </tr>\n",
       "    <tr>\n",
       "      <th>9</th>\n",
       "      <td>This Week in Coins: Bitcoin Touches $70,000 As...</td>\n",
       "      <td>bitcoin</td>\n",
       "      <td>0.445889</td>\n",
       "      <td>0.074236</td>\n",
       "      <td>0.074236</td>\n",
       "    </tr>\n",
       "  </tbody>\n",
       "</table>\n",
       "</div>"
      ],
      "text/plain": [
       "                                            Headline   Crypto  Positive  \\\n",
       "0  Bitcoin Halving: What It Means, Potential Impa...  bitcoin  0.032197   \n",
       "1  Bitcoin Miners Are Devouring Energy at a Recor...  bitcoin  0.056784   \n",
       "2  How to capitalize on the Bitcoin halving - Coi...  bitcoin  0.118363   \n",
       "3  Bitcoin breaks $70,000 in volatile trading, hi...  bitcoin  0.512939   \n",
       "4  DeFi TVL reaches $100B as Bitcoin pumps sentim...  bitcoin  0.876630   \n",
       "5  Bitcoin’s black swan event: How the return of ...  bitcoin  0.055200   \n",
       "6  SEC's Gensler says crypto 'rife with abuses an...  bitcoin  0.440768   \n",
       "7  ‘More Dangerous’ Than Nukes—China And Russia R...  bitcoin  0.094116   \n",
       "8                Why Bitcoin Just Hit Its All - TIME  bitcoin  0.245069   \n",
       "9  This Week in Coins: Bitcoin Touches $70,000 As...  bitcoin  0.445889   \n",
       "\n",
       "   Negative   Neutral  \n",
       "0  0.264307  0.264307  \n",
       "1  0.043786  0.043786  \n",
       "2  0.011485  0.011485  \n",
       "3  0.071788  0.071788  \n",
       "4  0.016265  0.016265  \n",
       "5  0.043232  0.043232  \n",
       "6  0.169024  0.169024  \n",
       "7  0.222146  0.222146  \n",
       "8  0.034447  0.034447  \n",
       "9  0.074236  0.074236  "
      ]
     },
     "execution_count": 21,
     "metadata": {},
     "output_type": "execute_result"
    }
   ],
   "source": [
    "df.head(10)"
   ]
  },
  {
   "cell_type": "code",
   "execution_count": null,
   "metadata": {},
   "outputs": [],
   "source": []
  }
 ],
 "metadata": {
  "kernelspec": {
   "display_name": "base",
   "language": "python",
   "name": "python3"
  },
  "language_info": {
   "codemirror_mode": {
    "name": "ipython",
    "version": 3
   },
   "file_extension": ".py",
   "mimetype": "text/x-python",
   "name": "python",
   "nbconvert_exporter": "python",
   "pygments_lexer": "ipython3",
   "version": "3.11.5"
  }
 },
 "nbformat": 4,
 "nbformat_minor": 2
}
